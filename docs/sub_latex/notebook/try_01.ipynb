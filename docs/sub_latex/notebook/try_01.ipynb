{
 "cells": [
  {
   "cell_type": "markdown",
   "metadata": {
    "colab_type": "text",
    "id": "view-in-github"
   },
   "source": [
    "<a href=\"https://colab.research.google.com/github/vamseeachanta/assetutilities/blob/2024aug/docs/sub_latex/notebook/try_01.ipynb\" target=\"_parent\"><img src=\"https://colab.research.google.com/assets/colab-badge.svg\" alt=\"Open In Colab\"/></a>"
   ]
  },
  {
   "cell_type": "markdown",
   "metadata": {
    "id": "wbwDe55hOU1L"
   },
   "source": [
    "**Custom Printing Class**\n",
    "https://docs.sympy.org/latest/modules/printing.html#printer-method-example"
   ]
  },
  {
   "cell_type": "code",
   "execution_count": 31,
   "metadata": {
    "colab": {
     "base_uri": "https://localhost:8080/",
     "height": 216
    },
    "id": "Ae5T99wQOwn4",
    "outputId": "491f9bd7-8ca2-4101-a538-282274e90f5c"
   },
   "outputs": [
    {
     "name": "stdout",
     "output_type": "stream",
     "text": [
      "x \\bmod m\n"
     ]
    },
    {
     "data": {
      "text/latex": "$\\displaystyle x \\bmod m$",
      "text/plain": [
       "x mod m"
      ]
     },
     "metadata": {},
     "output_type": "display_data"
    },
    {
     "name": "stdout",
     "output_type": "stream",
     "text": [
      "\n",
      "\n",
      "An example of a modified class function. \n",
      "Latex code: \n",
      "\\operatorname{Mod}{\\left(x, m\\right)}\n",
      "Displayed as: \n"
     ]
    },
    {
     "data": {
      "text/latex": "$\\displaystyle \\operatorname{Mod}{\\left(x, m\\right)}$",
      "text/plain": [
       "ModOp(x, m)"
      ]
     },
     "metadata": {},
     "output_type": "display_data"
    },
    {
     "name": "stdout",
     "output_type": "stream",
     "text": [
      "\n",
      "\n"
     ]
    }
   ],
   "source": [
    "\"\"\"\n",
    "https://stackoverflow.com/questions/51641380/text-comments-in-sympy-output\n",
    "https://stackoverflow.com/questions/36288670/how-to-programmatically-generate-markdown-output-in-jupyter-notebooks\n",
    "\n",
    "\"\"\"\n",
    "\n",
    "\n",
    "import sympy\n",
    "from IPython.display import Latex, Markdown, Math, display, display_markdown\n",
    "from sympy import Integral, Symbol, init_printing, latex, print_latex\n",
    "\n",
    "\"\"\"\n",
    "Resort to custom printing function/class. See example below:\n",
    "\"\"\"\n",
    "\n",
    "\n",
    "class ModOp(sympy.Mod):\n",
    "    def _latex(self, printer):\n",
    "        a, b = [printer._print(i) for i in self.args]\n",
    "        return rf\"\\operatorname{{Mod}}{{\\left({a}, {b}\\right)}}\"\n",
    "\n",
    "\n",
    "x = Symbol(\"x\")\n",
    "m = Symbol(\"m\")\n",
    "print_latex(sympy.Mod(x, m))\n",
    "display(sympy.Mod(x, m))\n",
    "print(\"\\n\")\n",
    "print(\"An example of a modified class function. \")\n",
    "print(\"Latex code: \")\n",
    "print_latex(ModOp(x, m))\n",
    "print(\"Displayed as: \")\n",
    "display(ModOp(x, m))\n",
    "\n",
    "print(\"\\n\")"
   ]
  },
  {
   "cell_type": "markdown",
   "metadata": {
    "id": "9eRYgbf0SvC1"
   },
   "source": [
    "**sympy, latex**"
   ]
  },
  {
   "cell_type": "code",
   "execution_count": 32,
   "metadata": {
    "colab": {
     "base_uri": "https://localhost:8080/",
     "height": 427
    },
    "id": "eISYJgzdTZKk",
    "outputId": "0728e699-e611-4639-f3e5-4da5808be4db"
   },
   "outputs": [
    {
     "name": "stdout",
     "output_type": "stream",
     "text": [
      "An example ..\n"
     ]
    },
    {
     "data": {
      "text/latex": "$\\displaystyle \\frac{3}{-1}$",
      "text/plain": [
       "<IPython.core.display.Math object>"
      ]
     },
     "metadata": {},
     "output_type": "display_data"
    },
    {
     "data": {
      "application/vnd.google.colaboratory.intrinsic+json": {
       "type": "string"
      },
      "text/plain": [
       "'='"
      ]
     },
     "metadata": {},
     "output_type": "display_data"
    },
    {
     "data": {
      "text/latex": "$\\displaystyle -3$",
      "text/plain": [
       "<IPython.core.display.Math object>"
      ]
     },
     "metadata": {},
     "output_type": "display_data"
    },
    {
     "name": "stdout",
     "output_type": "stream",
     "text": [
      "\n",
      "\n"
     ]
    },
    {
     "data": {
      "text/latex": "$\\displaystyle \\frac{3}{0}$",
      "text/plain": [
       "<IPython.core.display.Math object>"
      ]
     },
     "metadata": {},
     "output_type": "display_data"
    },
    {
     "data": {
      "application/vnd.google.colaboratory.intrinsic+json": {
       "type": "string"
      },
      "text/plain": [
       "'='"
      ]
     },
     "metadata": {},
     "output_type": "display_data"
    },
    {
     "data": {
      "text/latex": "$\\displaystyle \\tilde{\\infty}$",
      "text/plain": [
       "<IPython.core.display.Math object>"
      ]
     },
     "metadata": {},
     "output_type": "display_data"
    },
    {
     "name": "stdout",
     "output_type": "stream",
     "text": [
      "\n",
      "\n"
     ]
    },
    {
     "data": {
      "text/latex": "$\\displaystyle \\frac{3}{1}$",
      "text/plain": [
       "<IPython.core.display.Math object>"
      ]
     },
     "metadata": {},
     "output_type": "display_data"
    },
    {
     "data": {
      "application/vnd.google.colaboratory.intrinsic+json": {
       "type": "string"
      },
      "text/plain": [
       "'='"
      ]
     },
     "metadata": {},
     "output_type": "display_data"
    },
    {
     "data": {
      "text/latex": "$\\displaystyle 3$",
      "text/plain": [
       "<IPython.core.display.Math object>"
      ]
     },
     "metadata": {},
     "output_type": "display_data"
    },
    {
     "name": "stdout",
     "output_type": "stream",
     "text": [
      "\n",
      "\n",
      "\n",
      "\n",
      "\n",
      "\n"
     ]
    }
   ],
   "source": [
    "import sympy\n",
    "from IPython.display import display\n",
    "from sympy import Symbol, print_latex\n",
    "\n",
    "print(\"An example ..\")\n",
    "\n",
    "for i in range(-1, 2):\n",
    "    display(Math(sympy.latex(sympy.sympify(f\"3/{i}\", evaluate=False))))\n",
    "    display(\"=\")\n",
    "    display(Math(sympy.latex(sympy.sympify(f\"3/{i}\", evaluate=True))))\n",
    "    print(\"\\n\")\n",
    "\n",
    "print(\"\\n\")\n",
    "print(\"\\n\")"
   ]
  },
  {
   "cell_type": "markdown",
   "metadata": {
    "id": "UFMH5WY5TdZ6"
   },
   "source": [
    "**IPython: Latex**"
   ]
  },
  {
   "cell_type": "code",
   "execution_count": 33,
   "metadata": {
    "colab": {
     "base_uri": "https://localhost:8080/",
     "height": 140
    },
    "id": "Tc7zQUxET5gW",
    "outputId": "0f965c33-b177-4f29-e9b6-f608a2255580"
   },
   "outputs": [
    {
     "name": "stdout",
     "output_type": "stream",
     "text": [
      "An example ..\n"
     ]
    },
    {
     "data": {
      "text/markdown": "*some markdown* $\\phi$",
      "text/plain": [
       "<IPython.core.display.Markdown object>"
      ]
     },
     "metadata": {},
     "output_type": "display_data"
    },
    {
     "data": {
      "text/latex": "\\phi",
      "text/plain": [
       "<IPython.core.display.Latex object>"
      ]
     },
     "metadata": {},
     "output_type": "display_data"
    },
    {
     "name": "stdout",
     "output_type": "stream",
     "text": [
      "An example ..\n"
     ]
    },
    {
     "data": {
      "text/markdown": "Here is my equation: $\\cos{\\left(\\alpha - \\beta + \\theta \\right)}$",
      "text/plain": [
       "<IPython.core.display.Markdown object>"
      ]
     },
     "metadata": {},
     "output_type": "display_data"
    }
   ],
   "source": [
    "import sympy\n",
    "from IPython.display import Math, display\n",
    "from sympy import Symbol, print_latex\n",
    "\n",
    "print(\"An example ..\")\n",
    "\n",
    "display(Markdown(r\"*some markdown* $\\phi$\"))\n",
    "# If you particularly want to display maths, this is more direct:\n",
    "display(Latex(r\"\\phi\"))\n",
    "\n",
    "print(\"An example ..\")\n",
    "alpha, beta, theta = sympy.symbols(\"alpha beta theta\")\n",
    "my_eq = sympy.cos(alpha - beta + theta)\n",
    "display(Markdown(\"Here is my equation: {}\".format(sympy.latex(my_eq, mode=\"inline\"))))"
   ]
  },
  {
   "cell_type": "markdown",
   "metadata": {
    "id": "olcEh9YlUAOK"
   },
   "source": [
    "**IPython Table Display**"
   ]
  },
  {
   "cell_type": "code",
   "execution_count": 34,
   "metadata": {
    "colab": {
     "base_uri": "https://localhost:8080/",
     "height": 326
    },
    "id": "r9aL91RHUDEW",
    "outputId": "e0da2785-e94f-410a-b448-410892667104"
   },
   "outputs": [
    {
     "name": "stdout",
     "output_type": "stream",
     "text": [
      "Table display ..\n"
     ]
    },
    {
     "data": {
      "text/markdown": "## heading\n- ordered\n- list\n\nThe table below:\n\n| id |value|\n|:---|----:|\n| a  |  1  |\n| b  |  2  |\n"
     },
     "metadata": {},
     "output_type": "display_data"
    },
    {
     "name": "stdout",
     "output_type": "stream",
     "text": [
      "\n",
      "\n",
      "\\int \\sqrt{\\frac{1}{x}}\\, dx\n"
     ]
    },
    {
     "data": {
      "text/latex": "\\int \\sqrt{\\frac{1}{x}}\\, dx",
      "text/plain": [
       "<IPython.core.display.Latex object>"
      ]
     },
     "metadata": {},
     "output_type": "display_data"
    }
   ],
   "source": [
    "import sympy\n",
    "from IPython.display import Latex, Markdown, Math, display\n",
    "from sympy import Symbol, print_latex\n",
    "\n",
    "print(\"Table display ..\")\n",
    "\n",
    "display_markdown(\n",
    "    \"\"\"## heading\n",
    "- ordered\n",
    "- list\n",
    "\n",
    "The table below:\n",
    "\n",
    "| id |value|\n",
    "|:---|----:|\n",
    "| a  |  1  |\n",
    "| b  |  2  |\n",
    "\"\"\",\n",
    "    raw=True,\n",
    ")\n",
    "\n",
    "print(\"\\n\")\n",
    "print(latex(Integral(sympy.sqrt(1 / x), x)))\n",
    "display(Latex(latex(Integral(sympy.sqrt(1 / x), x))))"
   ]
  },
  {
   "cell_type": "markdown",
   "metadata": {
    "id": "bYVGndf4Umx3"
   },
   "source": [
    "**sympy, init_printing**"
   ]
  },
  {
   "cell_type": "code",
   "execution_count": 20,
   "metadata": {
    "colab": {
     "base_uri": "https://localhost:8080/",
     "height": 128
    },
    "id": "Fswj4qybrYYe",
    "outputId": "ca6f5988-0b9f-4722-b11f-d688d5d4df7d"
   },
   "outputs": [
    {
     "name": "stdout",
     "output_type": "stream",
     "text": [
      "An example ..\n",
      "\n",
      "\n",
      "Here is an integral \n"
     ]
    },
    {
     "data": {
      "text/latex": "$\\displaystyle \\left( \\int \\left(2 x^{2} + 3 x + 2\\right)\\, dx, \\  \\frac{2 x^{3}}{3} + \\frac{3 x^{2}}{2} + 2 x\\right)$",
      "text/plain": [
       "⎛⌠                         3      2      ⎞\n",
       "⎜⎮ ⎛   2          ⎞     2⋅x    3⋅x       ⎟\n",
       "⎜⎮ ⎝2⋅x  + 3⋅x + 2⎠ dx, ──── + ──── + 2⋅x⎟\n",
       "⎝⌡                       3      2        ⎠"
      ]
     },
     "execution_count": 20,
     "metadata": {},
     "output_type": "execute_result"
    }
   ],
   "source": [
    "import sympy\n",
    "from IPython.display import Latex, Markdown, Math, display, display_markdown\n",
    "from sympy import Integral, Symbol, latex, print_latex\n",
    "\n",
    "print(\"An example ..\")\n",
    "print(\"\\n\")\n",
    "\n",
    "x = Symbol(\"x\")\n",
    "expr1 = 2 * x**2 + 3 * x + 2\n",
    "\n",
    "init_printing(use_latex=\"mathjax\")\n",
    "print(\"Here is an integral \")\n",
    "Integral(expr1, x), sympy.integrate(expr1)"
   ]
  },
  {
   "cell_type": "markdown",
   "metadata": {
    "id": "2jsEbns3VlCa"
   },
   "source": [
    "**latexify-py library, latexify decorator function**\n",
    "https://colab.research.google.com/drive/1MuiawKpVIZ12MWwyYuzZHmbKThdM5wNJ?usp=sharing&ref=jousefmurad.com#scrollTo=4IPGyu2dFH6T"
   ]
  },
  {
   "cell_type": "code",
   "execution_count": null,
   "metadata": {
    "id": "-nLEq9M3Wpr8"
   },
   "outputs": [],
   "source": [
    "!pip install latexify-py==0.3.1\n",
    "\n",
    "import latexify\n",
    "\n",
    "latexify.__version__"
   ]
  },
  {
   "cell_type": "code",
   "execution_count": 35,
   "metadata": {
    "colab": {
     "base_uri": "https://localhost:8080/",
     "height": 58
    },
    "id": "u1stvAboVnrq",
    "outputId": "d7a04156-60dc-48c6-c939-f25373ca5d89"
   },
   "outputs": [
    {
     "data": {
      "text/latex": "$$ \\displaystyle \\mathrm{sinc}(x) = \\left\\{ \\begin{array}{ll} 1, & \\mathrm{if} \\ x = 0 \\\\ \\frac{\\sin x}{x}, & \\mathrm{otherwise} \\end{array} \\right. $$",
      "text/plain": [
       "<latexify.ipython_wrappers.LatexifiedFunction at 0x7c4c9030a5f0>"
      ]
     },
     "execution_count": 35,
     "metadata": {},
     "output_type": "execute_result"
    }
   ],
   "source": [
    "@latexify.function\n",
    "def sinc(x):\n",
    "    if x == 0:\n",
    "        return 1\n",
    "    else:\n",
    "        return math.sin(x) / x\n",
    "\n",
    "\n",
    "sinc"
   ]
  },
  {
   "cell_type": "code",
   "execution_count": 26,
   "metadata": {
    "colab": {
     "base_uri": "https://localhost:8080/",
     "height": 78
    },
    "id": "O6ivYLl4W1ir",
    "outputId": "6854145d-1906-43b8-dad9-692a40dbfcf1"
   },
   "outputs": [
    {
     "data": {
      "text/latex": "$$ \\displaystyle \\mathrm{fib}(x) = \\left\\{ \\begin{array}{ll} 0, & \\mathrm{if} \\ x = 0 \\\\ 1, & \\mathrm{if} \\ x = 1 \\\\ \\mathrm{fib} \\mathopen{}\\left( x - 1 \\mathclose{}\\right) + \\mathrm{fib} \\mathopen{}\\left( x - 2 \\mathclose{}\\right), & \\mathrm{otherwise} \\end{array} \\right. $$",
      "text/plain": [
       "<latexify.ipython_wrappers.LatexifiedFunction at 0x7c4c9030aaa0>"
      ]
     },
     "execution_count": 26,
     "metadata": {},
     "output_type": "execute_result"
    }
   ],
   "source": [
    "# Elif or nested else-if are unrolled.\n",
    "@latexify.function\n",
    "def fib(x):\n",
    "    if x == 0:\n",
    "        return 0\n",
    "    elif x == 1:\n",
    "        return 1\n",
    "    else:\n",
    "        return fib(x - 1) + fib(x - 2)\n",
    "\n",
    "\n",
    "fib"
   ]
  },
  {
   "cell_type": "code",
   "execution_count": 36,
   "metadata": {
    "colab": {
     "base_uri": "https://localhost:8080/",
     "height": 78
    },
    "id": "tlH2tU_AW_0q",
    "outputId": "18d2a927-5147-4481-a91f-78f77f1d57e7"
   },
   "outputs": [
    {
     "data": {
      "text/latex": "$$ \\displaystyle \\mathrm{transform}(x, y, a, b, \\theta, s, t) = \\begin{bmatrix} 1 & 0 & s \\\\ 0 & 1 & t \\\\ 0 & 0 & 1 \\end{bmatrix} \\cdot \\begin{bmatrix} \\cos \\theta & -\\sin \\theta & 0 \\\\ \\sin \\theta & \\cos \\theta & 0 \\\\ 0 & 0 & 1 \\end{bmatrix} \\cdot \\begin{bmatrix} a & 0 & 0 \\\\ 0 & b & 0 \\\\ 0 & 0 & 1 \\end{bmatrix} \\cdot \\begin{bmatrix} x \\\\ y \\\\ 1 \\end{bmatrix} $$",
      "text/plain": [
       "<latexify.ipython_wrappers.LatexifiedFunction at 0x7c4c91273820>"
      ]
     },
     "execution_count": 36,
     "metadata": {},
     "output_type": "execute_result"
    }
   ],
   "source": [
    "# Matrix support.\n",
    "@latexify.function(reduce_assignments=True, use_math_symbols=True)\n",
    "def transform(x, y, a, b, theta, s, t):\n",
    "    cos_t = math.cos(theta)\n",
    "    sin_t = math.sin(theta)\n",
    "    scale = np.array([[a, 0, 0], [0, b, 0], [0, 0, 1]])\n",
    "    rotate = np.array([[cos_t, -sin_t, 0], [sin_t, cos_t, 0], [0, 0, 1]])\n",
    "    move = np.array([[1, 0, s], [0, 1, t], [0, 0, 1]])\n",
    "    return move @ rotate @ scale @ np.array([[x], [y], [1]])\n",
    "\n",
    "\n",
    "transform"
   ]
  },
  {
   "cell_type": "code",
   "execution_count": 37,
   "metadata": {
    "colab": {
     "base_uri": "https://localhost:8080/",
     "height": 241
    },
    "id": "bOC8Dl5yXB4P",
    "outputId": "edab215d-71df-4c3f-fe72-e2a0dfbfc5c9"
   },
   "outputs": [
    {
     "data": {
      "text/latex": "$ \\begin{array}{l} \\mathbf{function} \\ \\mathrm{fib}(x) \\\\ \\hspace{1em} \\mathbf{if} \\ x = 0 \\\\ \\hspace{2em} \\mathbf{return} \\ 0 \\\\ \\hspace{1em} \\mathbf{else} \\\\ \\hspace{2em} \\mathbf{if} \\ x = 1 \\\\ \\hspace{3em} \\mathbf{return} \\ 1 \\\\ \\hspace{2em} \\mathbf{else} \\\\ \\hspace{3em} \\mathbf{return} \\ \\mathrm{fib} \\mathopen{}\\left( x - 1 \\mathclose{}\\right) + \\mathrm{fib} \\mathopen{}\\left( x - 2 \\mathclose{}\\right) \\\\ \\hspace{2em} \\mathbf{end \\ if} \\\\ \\hspace{1em} \\mathbf{end \\ if} \\\\ \\mathbf{end \\ function} \\end{array} $",
      "text/plain": [
       "<latexify.ipython_wrappers.LatexifiedAlgorithm at 0x7c4c91273730>"
      ]
     },
     "execution_count": 37,
     "metadata": {},
     "output_type": "execute_result"
    }
   ],
   "source": [
    "# latexify.algorithmic generates an algorithmic environment instead of an equation.\n",
    "@latexify.algorithmic\n",
    "def fib(x):\n",
    "    if x == 0:\n",
    "        return 0\n",
    "    elif x == 1:\n",
    "        return 1\n",
    "    else:\n",
    "        return fib(x - 1) + fib(x - 2)\n",
    "\n",
    "\n",
    "fib"
   ]
  },
  {
   "cell_type": "code",
   "execution_count": 38,
   "metadata": {
    "colab": {
     "base_uri": "https://localhost:8080/",
     "height": 261
    },
    "id": "h1ZmXarMXHKn",
    "outputId": "b8671e5f-15ed-4624-d9c8-1b19313d581b"
   },
   "outputs": [
    {
     "data": {
      "text/latex": "$ \\begin{array}{l} \\mathbf{function} \\ \\mathrm{collatz}(x) \\\\ \\hspace{1em} n \\gets 0 \\\\ \\hspace{1em} \\mathbf{while} \\ x > 1 \\\\ \\hspace{2em} n \\gets n + 1 \\\\ \\hspace{2em} \\mathbf{if} \\ x \\mathbin{\\%} 2 = 0 \\\\ \\hspace{3em} x \\gets \\left\\lfloor\\frac{x}{2}\\right\\rfloor \\\\ \\hspace{2em} \\mathbf{else} \\\\ \\hspace{3em} x \\gets 3 x + 1 \\\\ \\hspace{2em} \\mathbf{end \\ if} \\\\ \\hspace{1em} \\mathbf{end \\ while} \\\\ \\hspace{1em} \\mathbf{return} \\ n \\\\ \\mathbf{end \\ function} \\end{array} $",
      "text/plain": [
       "<latexify.ipython_wrappers.LatexifiedAlgorithm at 0x7c4c91272140>"
      ]
     },
     "execution_count": 38,
     "metadata": {},
     "output_type": "execute_result"
    }
   ],
   "source": [
    "# Another example: latexify.algorithmic supports usual control flows.\n",
    "@latexify.algorithmic\n",
    "def collatz(x):\n",
    "    n = 0\n",
    "    while x > 1:\n",
    "        n = n + 1\n",
    "        if x % 2 == 0:\n",
    "            x = x // 2\n",
    "        else:\n",
    "            x = 3 * x + 1\n",
    "    return n\n",
    "\n",
    "\n",
    "collatz"
   ]
  }
 ],
 "metadata": {
  "colab": {
   "authorship_tag": "ABX9TyNlPbNJqt4WtUH/np6yIcp9",
   "include_colab_link": true,
   "provenance": [],
   "toc_visible": true
  },
  "kernelspec": {
   "display_name": "Python 3",
   "name": "python3"
  },
  "language_info": {
   "name": "python"
  }
 },
 "nbformat": 4,
 "nbformat_minor": 0
}