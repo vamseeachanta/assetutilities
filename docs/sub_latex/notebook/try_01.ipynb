{
  "nbformat": 4,
  "nbformat_minor": 0,
  "metadata": {
    "colab": {
      "provenance": [],
      "toc_visible": true,
      "authorship_tag": "ABX9TyNlPbNJqt4WtUH/np6yIcp9",
      "include_colab_link": true
    },
    "kernelspec": {
      "name": "python3",
      "display_name": "Python 3"
    },
    "language_info": {
      "name": "python"
    }
  },
  "cells": [
    {
      "cell_type": "markdown",
      "metadata": {
        "id": "view-in-github",
        "colab_type": "text"
      },
      "source": [
        "<a href=\"https://colab.research.google.com/github/vamseeachanta/assetutilities/blob/2024aug/docs/sub_latex/notebook/try_01.ipynb\" target=\"_parent\"><img src=\"https://colab.research.google.com/assets/colab-badge.svg\" alt=\"Open In Colab\"/></a>"
      ]
    },
    {
      "cell_type": "markdown",
      "source": [
        "**Custom Printing Class**\n",
        "https://docs.sympy.org/latest/modules/printing.html#printer-method-example"
      ],
      "metadata": {
        "id": "wbwDe55hOU1L"
      }
    },
    {
      "cell_type": "code",
      "source": [
        "'''\n",
        "https://stackoverflow.com/questions/51641380/text-comments-in-sympy-output\n",
        "https://stackoverflow.com/questions/36288670/how-to-programmatically-generate-markdown-output-in-jupyter-notebooks\n",
        "\n",
        "'''\n",
        "\n",
        "\n",
        "import sympy\n",
        "\n",
        "from sympy import init_printing, Integral, Symbol, latex, print_latex\n",
        "from IPython.display import display, Markdown, Latex, display_markdown, Math\n",
        "\n",
        "\n",
        "'''\n",
        "Resort to custom printing function/class. See example below:\n",
        "'''\n",
        "class ModOp(sympy.Mod):\n",
        "    def _latex(self, printer):\n",
        "        a, b = [printer._print(i) for i in self.args]\n",
        "        return r\"\\operatorname{Mod}{\\left(%s, %s\\right)}\" % (a, b)\n",
        "\n",
        "x = Symbol('x')\n",
        "m = Symbol('m')\n",
        "print_latex(sympy.Mod(x, m))\n",
        "display(sympy.Mod(x, m))\n",
        "print(\"\\n\")\n",
        "print(\"An example of a modified class function. \")\n",
        "print(f\"Latex code: \")\n",
        "print_latex(ModOp(x, m))\n",
        "print(f\"Displayed as: \")\n",
        "display(ModOp(x, m))\n",
        "\n",
        "print(\"\\n\")\n"
      ],
      "metadata": {
        "colab": {
          "base_uri": "https://localhost:8080/",
          "height": 216
        },
        "id": "Ae5T99wQOwn4",
        "outputId": "491f9bd7-8ca2-4101-a538-282274e90f5c"
      },
      "execution_count": 31,
      "outputs": [
        {
          "output_type": "stream",
          "name": "stdout",
          "text": [
            "x \\bmod m\n"
          ]
        },
        {
          "output_type": "display_data",
          "data": {
            "text/plain": [
              "x mod m"
            ],
            "text/latex": "$\\displaystyle x \\bmod m$"
          },
          "metadata": {}
        },
        {
          "output_type": "stream",
          "name": "stdout",
          "text": [
            "\n",
            "\n",
            "An example of a modified class function. \n",
            "Latex code: \n",
            "\\operatorname{Mod}{\\left(x, m\\right)}\n",
            "Displayed as: \n"
          ]
        },
        {
          "output_type": "display_data",
          "data": {
            "text/plain": [
              "ModOp(x, m)"
            ],
            "text/latex": "$\\displaystyle \\operatorname{Mod}{\\left(x, m\\right)}$"
          },
          "metadata": {}
        },
        {
          "output_type": "stream",
          "name": "stdout",
          "text": [
            "\n",
            "\n"
          ]
        }
      ]
    },
    {
      "cell_type": "markdown",
      "source": [
        "**sympy, latex**"
      ],
      "metadata": {
        "id": "9eRYgbf0SvC1"
      }
    },
    {
      "cell_type": "code",
      "source": [
        "import sympy\n",
        "from sympy import init_printing, Integral, Symbol, latex, print_latex\n",
        "from IPython.display import display, Markdown, Latex, display_markdown, Math\n",
        "\n",
        "\n",
        "print(\"An example ..\")\n",
        "\n",
        "for i in range(-1,2):\n",
        "    display(Math(sympy.latex(sympy.sympify(f'3/{i}', evaluate=False))))\n",
        "    display('=')\n",
        "    display(Math(sympy.latex(sympy.sympify(f'3/{i}', evaluate=True))))\n",
        "    print(\"\\n\")\n",
        "\n",
        "print(\"\\n\")\n",
        "print(\"\\n\")\n"
      ],
      "metadata": {
        "colab": {
          "base_uri": "https://localhost:8080/",
          "height": 427
        },
        "id": "eISYJgzdTZKk",
        "outputId": "0728e699-e611-4639-f3e5-4da5808be4db"
      },
      "execution_count": 32,
      "outputs": [
        {
          "output_type": "stream",
          "name": "stdout",
          "text": [
            "An example ..\n"
          ]
        },
        {
          "output_type": "display_data",
          "data": {
            "text/plain": [
              "<IPython.core.display.Math object>"
            ],
            "text/latex": "$\\displaystyle \\frac{3}{-1}$"
          },
          "metadata": {}
        },
        {
          "output_type": "display_data",
          "data": {
            "text/plain": [
              "'='"
            ],
            "application/vnd.google.colaboratory.intrinsic+json": {
              "type": "string"
            }
          },
          "metadata": {}
        },
        {
          "output_type": "display_data",
          "data": {
            "text/plain": [
              "<IPython.core.display.Math object>"
            ],
            "text/latex": "$\\displaystyle -3$"
          },
          "metadata": {}
        },
        {
          "output_type": "stream",
          "name": "stdout",
          "text": [
            "\n",
            "\n"
          ]
        },
        {
          "output_type": "display_data",
          "data": {
            "text/plain": [
              "<IPython.core.display.Math object>"
            ],
            "text/latex": "$\\displaystyle \\frac{3}{0}$"
          },
          "metadata": {}
        },
        {
          "output_type": "display_data",
          "data": {
            "text/plain": [
              "'='"
            ],
            "application/vnd.google.colaboratory.intrinsic+json": {
              "type": "string"
            }
          },
          "metadata": {}
        },
        {
          "output_type": "display_data",
          "data": {
            "text/plain": [
              "<IPython.core.display.Math object>"
            ],
            "text/latex": "$\\displaystyle \\tilde{\\infty}$"
          },
          "metadata": {}
        },
        {
          "output_type": "stream",
          "name": "stdout",
          "text": [
            "\n",
            "\n"
          ]
        },
        {
          "output_type": "display_data",
          "data": {
            "text/plain": [
              "<IPython.core.display.Math object>"
            ],
            "text/latex": "$\\displaystyle \\frac{3}{1}$"
          },
          "metadata": {}
        },
        {
          "output_type": "display_data",
          "data": {
            "text/plain": [
              "'='"
            ],
            "application/vnd.google.colaboratory.intrinsic+json": {
              "type": "string"
            }
          },
          "metadata": {}
        },
        {
          "output_type": "display_data",
          "data": {
            "text/plain": [
              "<IPython.core.display.Math object>"
            ],
            "text/latex": "$\\displaystyle 3$"
          },
          "metadata": {}
        },
        {
          "output_type": "stream",
          "name": "stdout",
          "text": [
            "\n",
            "\n",
            "\n",
            "\n",
            "\n",
            "\n"
          ]
        }
      ]
    },
    {
      "cell_type": "markdown",
      "source": [
        "**IPython: Latex**"
      ],
      "metadata": {
        "id": "UFMH5WY5TdZ6"
      }
    },
    {
      "cell_type": "code",
      "source": [
        "import sympy\n",
        "from sympy import init_printing, Integral, Symbol, latex, print_latex\n",
        "from IPython.display import display, Markdown, Latex, display_markdown, Math\n",
        "\n",
        "print(\"An example ..\")\n",
        "\n",
        "display(Markdown('*some markdown* $\\phi$'))\n",
        "# If you particularly want to display maths, this is more direct:\n",
        "display(Latex('\\phi'))\n",
        "\n",
        "print(\"An example ..\")\n",
        "alpha, beta, theta = sympy.symbols('alpha beta theta')\n",
        "my_eq = sympy.cos(alpha - beta + theta)\n",
        "display(\n",
        "    Markdown(\n",
        "        'Here is my equation: {}'.format(\n",
        "            sympy.latex(my_eq, mode='inline')\n",
        "        )\n",
        "    )\n",
        ")\n"
      ],
      "metadata": {
        "colab": {
          "base_uri": "https://localhost:8080/",
          "height": 140
        },
        "id": "Tc7zQUxET5gW",
        "outputId": "0f965c33-b177-4f29-e9b6-f608a2255580"
      },
      "execution_count": 33,
      "outputs": [
        {
          "output_type": "stream",
          "name": "stdout",
          "text": [
            "An example ..\n"
          ]
        },
        {
          "output_type": "display_data",
          "data": {
            "text/plain": [
              "<IPython.core.display.Markdown object>"
            ],
            "text/markdown": "*some markdown* $\\phi$"
          },
          "metadata": {}
        },
        {
          "output_type": "display_data",
          "data": {
            "text/plain": [
              "<IPython.core.display.Latex object>"
            ],
            "text/latex": "\\phi"
          },
          "metadata": {}
        },
        {
          "output_type": "stream",
          "name": "stdout",
          "text": [
            "An example ..\n"
          ]
        },
        {
          "output_type": "display_data",
          "data": {
            "text/plain": [
              "<IPython.core.display.Markdown object>"
            ],
            "text/markdown": "Here is my equation: $\\cos{\\left(\\alpha - \\beta + \\theta \\right)}$"
          },
          "metadata": {}
        }
      ]
    },
    {
      "cell_type": "markdown",
      "source": [
        "**IPython Table Display**"
      ],
      "metadata": {
        "id": "olcEh9YlUAOK"
      }
    },
    {
      "cell_type": "code",
      "source": [
        "import sympy\n",
        "from sympy import init_printing, Integral, Symbol, latex, print_latex\n",
        "from IPython.display import display, Markdown, Latex, display_markdown, Math\n",
        "\n",
        "print(\"Table display ..\")\n",
        "\n",
        "display_markdown('''## heading\n",
        "- ordered\n",
        "- list\n",
        "\n",
        "The table below:\n",
        "\n",
        "| id |value|\n",
        "|:---|----:|\n",
        "| a  |  1  |\n",
        "| b  |  2  |\n",
        "''', raw=True)\n",
        "\n",
        "print(\"\\n\")\n",
        "print(latex(Integral(sympy.sqrt(1/x), x)))\n",
        "display(Latex(latex(Integral(sympy.sqrt(1/x), x))))\n"
      ],
      "metadata": {
        "colab": {
          "base_uri": "https://localhost:8080/",
          "height": 326
        },
        "id": "r9aL91RHUDEW",
        "outputId": "e0da2785-e94f-410a-b448-410892667104"
      },
      "execution_count": 34,
      "outputs": [
        {
          "output_type": "stream",
          "name": "stdout",
          "text": [
            "Table display ..\n"
          ]
        },
        {
          "output_type": "display_data",
          "data": {
            "text/markdown": "## heading\n- ordered\n- list\n\nThe table below:\n\n| id |value|\n|:---|----:|\n| a  |  1  |\n| b  |  2  |\n"
          },
          "metadata": {}
        },
        {
          "output_type": "stream",
          "name": "stdout",
          "text": [
            "\n",
            "\n",
            "\\int \\sqrt{\\frac{1}{x}}\\, dx\n"
          ]
        },
        {
          "output_type": "display_data",
          "data": {
            "text/plain": [
              "<IPython.core.display.Latex object>"
            ],
            "text/latex": "\\int \\sqrt{\\frac{1}{x}}\\, dx"
          },
          "metadata": {}
        }
      ]
    },
    {
      "cell_type": "markdown",
      "source": [
        "**sympy, init_printing**"
      ],
      "metadata": {
        "id": "bYVGndf4Umx3"
      }
    },
    {
      "cell_type": "code",
      "execution_count": 20,
      "metadata": {
        "id": "Fswj4qybrYYe",
        "colab": {
          "base_uri": "https://localhost:8080/",
          "height": 128
        },
        "outputId": "ca6f5988-0b9f-4722-b11f-d688d5d4df7d"
      },
      "outputs": [
        {
          "output_type": "stream",
          "name": "stdout",
          "text": [
            "An example ..\n",
            "\n",
            "\n",
            "Here is an integral \n"
          ]
        },
        {
          "output_type": "execute_result",
          "data": {
            "text/plain": [
              "⎛⌠                         3      2      ⎞\n",
              "⎜⎮ ⎛   2          ⎞     2⋅x    3⋅x       ⎟\n",
              "⎜⎮ ⎝2⋅x  + 3⋅x + 2⎠ dx, ──── + ──── + 2⋅x⎟\n",
              "⎝⌡                       3      2        ⎠"
            ],
            "text/latex": "$\\displaystyle \\left( \\int \\left(2 x^{2} + 3 x + 2\\right)\\, dx, \\  \\frac{2 x^{3}}{3} + \\frac{3 x^{2}}{2} + 2 x\\right)$"
          },
          "metadata": {},
          "execution_count": 20
        }
      ],
      "source": [
        "import sympy\n",
        "from sympy import init_printing, Integral, Symbol, latex, print_latex\n",
        "from IPython.display import display, Markdown, Latex, display_markdown, Math\n",
        "\n",
        "print(\"An example ..\")\n",
        "print(\"\\n\")\n",
        "\n",
        "x = Symbol('x')\n",
        "expr1 = 2*x**2 + 3*x + 2\n",
        "\n",
        "init_printing(use_latex='mathjax')\n",
        "print(\"Here is an integral \")\n",
        "Integral(expr1, x), sympy.integrate(expr1)"
      ]
    },
    {
      "cell_type": "markdown",
      "source": [
        "**latexify-py library, latexify decorator function**\n",
        "https://colab.research.google.com/drive/1MuiawKpVIZ12MWwyYuzZHmbKThdM5wNJ?usp=sharing&ref=jousefmurad.com#scrollTo=4IPGyu2dFH6T"
      ],
      "metadata": {
        "id": "2jsEbns3VlCa"
      }
    },
    {
      "cell_type": "code",
      "source": [
        "!pip install latexify-py==0.3.1\n",
        "\n",
        "import latexify\n",
        "\n",
        "latexify.__version__"
      ],
      "metadata": {
        "id": "-nLEq9M3Wpr8"
      },
      "execution_count": null,
      "outputs": []
    },
    {
      "cell_type": "code",
      "source": [
        "\n",
        "\n",
        "\n",
        "@latexify.function\n",
        "def sinc(x):\n",
        "  if x == 0:\n",
        "    return 1\n",
        "  else:\n",
        "    return math.sin(x) / x\n",
        "\n",
        "sinc"
      ],
      "metadata": {
        "colab": {
          "base_uri": "https://localhost:8080/",
          "height": 58
        },
        "id": "u1stvAboVnrq",
        "outputId": "d7a04156-60dc-48c6-c939-f25373ca5d89"
      },
      "execution_count": 35,
      "outputs": [
        {
          "output_type": "execute_result",
          "data": {
            "text/plain": [
              "<latexify.ipython_wrappers.LatexifiedFunction at 0x7c4c9030a5f0>"
            ],
            "text/latex": "$$ \\displaystyle \\mathrm{sinc}(x) = \\left\\{ \\begin{array}{ll} 1, & \\mathrm{if} \\ x = 0 \\\\ \\frac{\\sin x}{x}, & \\mathrm{otherwise} \\end{array} \\right. $$"
          },
          "metadata": {},
          "execution_count": 35
        }
      ]
    },
    {
      "cell_type": "code",
      "source": [
        "# Elif or nested else-if are unrolled.\n",
        "@latexify.function\n",
        "def fib(x):\n",
        "  if x == 0:\n",
        "    return 0\n",
        "  elif x == 1:\n",
        "    return 1\n",
        "  else:\n",
        "    return fib(x-1) + fib(x-2)\n",
        "\n",
        "fib"
      ],
      "metadata": {
        "colab": {
          "base_uri": "https://localhost:8080/",
          "height": 78
        },
        "id": "O6ivYLl4W1ir",
        "outputId": "6854145d-1906-43b8-dad9-692a40dbfcf1"
      },
      "execution_count": 26,
      "outputs": [
        {
          "output_type": "execute_result",
          "data": {
            "text/plain": [
              "<latexify.ipython_wrappers.LatexifiedFunction at 0x7c4c9030aaa0>"
            ],
            "text/latex": "$$ \\displaystyle \\mathrm{fib}(x) = \\left\\{ \\begin{array}{ll} 0, & \\mathrm{if} \\ x = 0 \\\\ 1, & \\mathrm{if} \\ x = 1 \\\\ \\mathrm{fib} \\mathopen{}\\left( x - 1 \\mathclose{}\\right) + \\mathrm{fib} \\mathopen{}\\left( x - 2 \\mathclose{}\\right), & \\mathrm{otherwise} \\end{array} \\right. $$"
          },
          "metadata": {},
          "execution_count": 26
        }
      ]
    },
    {
      "cell_type": "code",
      "source": [
        "# Matrix support.\n",
        "@latexify.function(reduce_assignments=True, use_math_symbols=True)\n",
        "def transform(x, y, a, b, theta, s, t):\n",
        "  cos_t = math.cos(theta)\n",
        "  sin_t = math.sin(theta)\n",
        "  scale = np.array([[a, 0, 0], [0, b, 0], [0, 0, 1]])\n",
        "  rotate = np.array([[cos_t, -sin_t, 0], [sin_t, cos_t, 0], [0, 0, 1]])\n",
        "  move = np.array([[1, 0, s], [0, 1, t], [0, 0, 1]])\n",
        "  return move @ rotate @ scale @ np.array([[x], [y], [1]])\n",
        "\n",
        "transform"
      ],
      "metadata": {
        "colab": {
          "base_uri": "https://localhost:8080/",
          "height": 78
        },
        "id": "tlH2tU_AW_0q",
        "outputId": "18d2a927-5147-4481-a91f-78f77f1d57e7"
      },
      "execution_count": 36,
      "outputs": [
        {
          "output_type": "execute_result",
          "data": {
            "text/plain": [
              "<latexify.ipython_wrappers.LatexifiedFunction at 0x7c4c91273820>"
            ],
            "text/latex": "$$ \\displaystyle \\mathrm{transform}(x, y, a, b, \\theta, s, t) = \\begin{bmatrix} 1 & 0 & s \\\\ 0 & 1 & t \\\\ 0 & 0 & 1 \\end{bmatrix} \\cdot \\begin{bmatrix} \\cos \\theta & -\\sin \\theta & 0 \\\\ \\sin \\theta & \\cos \\theta & 0 \\\\ 0 & 0 & 1 \\end{bmatrix} \\cdot \\begin{bmatrix} a & 0 & 0 \\\\ 0 & b & 0 \\\\ 0 & 0 & 1 \\end{bmatrix} \\cdot \\begin{bmatrix} x \\\\ y \\\\ 1 \\end{bmatrix} $$"
          },
          "metadata": {},
          "execution_count": 36
        }
      ]
    },
    {
      "cell_type": "code",
      "source": [
        "# latexify.algorithmic generates an algorithmic environment instead of an equation.\n",
        "@latexify.algorithmic\n",
        "def fib(x):\n",
        "  if x == 0:\n",
        "    return 0\n",
        "  elif x == 1:\n",
        "    return 1\n",
        "  else:\n",
        "    return fib(x-1) + fib(x-2)\n",
        "\n",
        "fib"
      ],
      "metadata": {
        "colab": {
          "base_uri": "https://localhost:8080/",
          "height": 241
        },
        "id": "bOC8Dl5yXB4P",
        "outputId": "edab215d-71df-4c3f-fe72-e2a0dfbfc5c9"
      },
      "execution_count": 37,
      "outputs": [
        {
          "output_type": "execute_result",
          "data": {
            "text/plain": [
              "<latexify.ipython_wrappers.LatexifiedAlgorithm at 0x7c4c91273730>"
            ],
            "text/latex": "$ \\begin{array}{l} \\mathbf{function} \\ \\mathrm{fib}(x) \\\\ \\hspace{1em} \\mathbf{if} \\ x = 0 \\\\ \\hspace{2em} \\mathbf{return} \\ 0 \\\\ \\hspace{1em} \\mathbf{else} \\\\ \\hspace{2em} \\mathbf{if} \\ x = 1 \\\\ \\hspace{3em} \\mathbf{return} \\ 1 \\\\ \\hspace{2em} \\mathbf{else} \\\\ \\hspace{3em} \\mathbf{return} \\ \\mathrm{fib} \\mathopen{}\\left( x - 1 \\mathclose{}\\right) + \\mathrm{fib} \\mathopen{}\\left( x - 2 \\mathclose{}\\right) \\\\ \\hspace{2em} \\mathbf{end \\ if} \\\\ \\hspace{1em} \\mathbf{end \\ if} \\\\ \\mathbf{end \\ function} \\end{array} $"
          },
          "metadata": {},
          "execution_count": 37
        }
      ]
    },
    {
      "cell_type": "code",
      "source": [
        "# Another example: latexify.algorithmic supports usual control flows.\n",
        "@latexify.algorithmic\n",
        "def collatz(x):\n",
        "  n = 0\n",
        "  while x > 1:\n",
        "    n = n + 1\n",
        "    if x % 2 == 0:\n",
        "      x = x // 2\n",
        "    else:\n",
        "      x = 3 * x + 1\n",
        "  return n\n",
        "\n",
        "collatz"
      ],
      "metadata": {
        "colab": {
          "base_uri": "https://localhost:8080/",
          "height": 261
        },
        "id": "h1ZmXarMXHKn",
        "outputId": "b8671e5f-15ed-4624-d9c8-1b19313d581b"
      },
      "execution_count": 38,
      "outputs": [
        {
          "output_type": "execute_result",
          "data": {
            "text/plain": [
              "<latexify.ipython_wrappers.LatexifiedAlgorithm at 0x7c4c91272140>"
            ],
            "text/latex": "$ \\begin{array}{l} \\mathbf{function} \\ \\mathrm{collatz}(x) \\\\ \\hspace{1em} n \\gets 0 \\\\ \\hspace{1em} \\mathbf{while} \\ x > 1 \\\\ \\hspace{2em} n \\gets n + 1 \\\\ \\hspace{2em} \\mathbf{if} \\ x \\mathbin{\\%} 2 = 0 \\\\ \\hspace{3em} x \\gets \\left\\lfloor\\frac{x}{2}\\right\\rfloor \\\\ \\hspace{2em} \\mathbf{else} \\\\ \\hspace{3em} x \\gets 3 x + 1 \\\\ \\hspace{2em} \\mathbf{end \\ if} \\\\ \\hspace{1em} \\mathbf{end \\ while} \\\\ \\hspace{1em} \\mathbf{return} \\ n \\\\ \\mathbf{end \\ function} \\end{array} $"
          },
          "metadata": {},
          "execution_count": 38
        }
      ]
    }
  ]
}