{
  "nbformat": 4,
  "nbformat_minor": 0,
  "metadata": {
    "colab": {
      "provenance": [],
      "toc_visible": true,
      "authorship_tag": "ABX9TyNnpLC8/LPER6a00G3JPio6",
      "include_colab_link": true
    },
    "kernelspec": {
      "name": "python3",
      "display_name": "Python 3"
    },
    "language_info": {
      "name": "python"
    }
  },
  "cells": [
    {
      "cell_type": "markdown",
      "metadata": {
        "id": "view-in-github",
        "colab_type": "text"
      },
      "source": [
        "<a href=\"https://colab.research.google.com/github/vamseeachanta/assetutilities/blob/2024aug/docs/sub_latex/notebook/try_01.ipynb\" target=\"_parent\"><img src=\"https://colab.research.google.com/assets/colab-badge.svg\" alt=\"Open In Colab\"/></a>"
      ]
    },
    {
      "cell_type": "markdown",
      "source": [
        "**Custom Printing Class**"
      ],
      "metadata": {
        "id": "wbwDe55hOU1L"
      }
    },
    {
      "cell_type": "code",
      "execution_count": 1,
      "metadata": {
        "id": "Fswj4qybrYYe",
        "outputId": "f2d32f63-8a89-4b78-c16d-cd898705915d",
        "colab": {
          "base_uri": "https://localhost:8080/",
          "height": 531
        }
      },
      "outputs": [
        {
          "output_type": "stream",
          "name": "stdout",
          "text": [
            "Collecting latexify-py==0.3.1\n",
            "  Downloading latexify_py-0.3.1-py3-none-any.whl.metadata (3.9 kB)\n",
            "Collecting dill>=0.3.2 (from latexify-py==0.3.1)\n",
            "  Downloading dill-0.3.9-py3-none-any.whl.metadata (10 kB)\n",
            "Downloading latexify_py-0.3.1-py3-none-any.whl (36 kB)\n",
            "Downloading dill-0.3.9-py3-none-any.whl (119 kB)\n",
            "\u001b[2K   \u001b[90m━━━━━━━━━━━━━━━━━━━━━━━━━━━━━━━━━━━━━━━━\u001b[0m \u001b[32m119.4/119.4 kB\u001b[0m \u001b[31m6.9 MB/s\u001b[0m eta \u001b[36m0:00:00\u001b[0m\n",
            "\u001b[?25hInstalling collected packages: dill, latexify-py\n",
            "Successfully installed dill-0.3.9 latexify-py-0.3.1\n",
            "x \\bmod m\n"
          ]
        },
        {
          "output_type": "display_data",
          "data": {
            "text/plain": [
              "Mod(x, m)"
            ],
            "text/latex": "$\\displaystyle x \\bmod m$"
          },
          "metadata": {}
        },
        {
          "output_type": "stream",
          "name": "stdout",
          "text": [
            "\n",
            "\n",
            "An example of a modified class function display is below\n",
            "\\operatorname{Mod}{\\left(x, m\\right)}\n"
          ]
        },
        {
          "output_type": "display_data",
          "data": {
            "text/plain": [
              "ModOp(x, m)"
            ],
            "text/latex": "$\\displaystyle \\operatorname{Mod}{\\left(x, m\\right)}$"
          },
          "metadata": {}
        },
        {
          "output_type": "stream",
          "name": "stdout",
          "text": [
            "\n",
            "\n"
          ]
        },
        {
          "output_type": "error",
          "ename": "AttributeError",
          "evalue": "module 'latexify' has no attribute 'with_latex'",
          "traceback": [
            "\u001b[0;31m---------------------------------------------------------------------------\u001b[0m",
            "\u001b[0;31mAttributeError\u001b[0m                            Traceback (most recent call last)",
            "\u001b[0;32m<ipython-input-1-b970ab39474f>\u001b[0m in \u001b[0;36m<cell line: 36>\u001b[0;34m()\u001b[0m\n\u001b[1;32m     34\u001b[0m \u001b[0mprint\u001b[0m\u001b[0;34m(\u001b[0m\u001b[0;34m\"\\n\"\u001b[0m\u001b[0;34m)\u001b[0m\u001b[0;34m\u001b[0m\u001b[0;34m\u001b[0m\u001b[0m\n\u001b[1;32m     35\u001b[0m \u001b[0;34m\u001b[0m\u001b[0m\n\u001b[0;32m---> 36\u001b[0;31m \u001b[0;34m@\u001b[0m\u001b[0mlatexify\u001b[0m\u001b[0;34m.\u001b[0m\u001b[0mwith_latex\u001b[0m\u001b[0;34m\u001b[0m\u001b[0;34m\u001b[0m\u001b[0m\n\u001b[0m\u001b[1;32m     37\u001b[0m \u001b[0;32mdef\u001b[0m \u001b[0mdefine_function\u001b[0m\u001b[0;34m(\u001b[0m\u001b[0;34m)\u001b[0m\u001b[0;34m:\u001b[0m\u001b[0;34m\u001b[0m\u001b[0;34m\u001b[0m\u001b[0m\n\u001b[1;32m     38\u001b[0m     '''\n",
            "\u001b[0;31mAttributeError\u001b[0m: module 'latexify' has no attribute 'with_latex'"
          ]
        }
      ],
      "source": [
        "\n",
        "print(\"An example ..\")\n",
        "\n",
        "for i in range(-1,2):\n",
        "    display(Math(sympy.latex(sympy.sympify(f'3/{i}', evaluate=False))))\n",
        "    display('=')\n",
        "    display(Math(sympy.latex(sympy.sympify(f'3/{i}', evaluate=True))))\n",
        "    print(\"\\n\")\n",
        "\n",
        "print(\"\\n\")\n",
        "print(\"\\n\")\n",
        "print(\"An example ..\")\n",
        "\n",
        "display(Markdown('*some markdown* $\\phi$'))\n",
        "# If you particularly want to display maths, this is more direct:\n",
        "display(Latex('\\phi'))\n",
        "\n",
        "print(\"An example ..\")\n",
        "alpha, beta, theta = sympy.symbols('alpha beta theta')\n",
        "my_eq = sympy.cos(alpha - beta + theta)\n",
        "display(\n",
        "    Markdown(\n",
        "        'Here is my equation: {}'.format(\n",
        "            sympy.latex(my_eq, mode='inline')\n",
        "        )\n",
        "    )\n",
        ")\n",
        "\n",
        "\n",
        "print(\"\\n\")\n",
        "print(\"\\n\")\n",
        "print(\"Table display ..\")\n",
        "\n",
        "display_markdown('''## heading\n",
        "- ordered\n",
        "- list\n",
        "\n",
        "The table below:\n",
        "\n",
        "| id |value|\n",
        "|:---|----:|\n",
        "| a  |  1  |\n",
        "| b  |  2  |\n",
        "''', raw=True)\n",
        "\n",
        "print(\"\\n\")\n",
        "print(latex(Integral(sympy.sqrt(1/x), x)))\n",
        "display(Latex(latex(Integral(sympy.sqrt(1/x), x))))\n",
        "\n",
        "print(\"\\n\")\n",
        "print(\"\\n\")\n",
        "print(\"An example ..\")\n",
        "print(\"\\n\")\n",
        "\n",
        "x = Symbol('x')\n",
        "expr1 = 2*x**2 + 3*x + 2\n",
        "\n",
        "init_printing(use_latex='mathjax')\n",
        "print(\"Here is an integral \")\n",
        "Integral(expr1, x), sympy.integrate(expr1)"
      ]
    },
    {
      "cell_type": "code",
      "source": [
        "'''\n",
        "https://stackoverflow.com/questions/51641380/text-comments-in-sympy-output\n",
        "https://stackoverflow.com/questions/36288670/how-to-programmatically-generate-markdown-output-in-jupyter-notebooks\n",
        "https://colab.research.google.com/drive/1MuiawKpVIZ12MWwyYuzZHmbKThdM5wNJ?usp=sharing&ref=jousefmurad.com#scrollTo=4IPGyu2dFH6T\n",
        "'''\n",
        "\n",
        "\n",
        "import sympy\n",
        "\n",
        "from sympy import init_printing, Integral, Symbol, latex, print_latex\n",
        "from IPython.display import display, Markdown, Latex, display_markdown, Math\n",
        "\n",
        "\n",
        "'''\n",
        "Resort to custom printing function/class. See example below:\n",
        "Reference: https://docs.sympy.org/latest/modules/printing.html#printer-method-example\n",
        "'''\n",
        "class ModOp(sympy.Mod):\n",
        "    def _latex(self, printer):\n",
        "        a, b = [printer._print(i) for i in self.args]\n",
        "        return r\"\\operatorname{Mod}{\\left(%s, %s\\right)}\" % (a, b)\n",
        "\n",
        "x = Symbol('x')\n",
        "m = Symbol('m')\n",
        "print_latex(sympy.Mod(x, m))\n",
        "display(sympy.Mod(x, m))\n",
        "print(\"\\n\")\n",
        "print(\"An example of a modified class function. \")\n",
        "print(f\"Latex code: \")\n",
        "print_latex(ModOp(x, m))\n",
        "print(f\"Displayed as: \")\n",
        "display(ModOp(x, m))\n",
        "\n",
        "print(\"\\n\")\n"
      ],
      "metadata": {
        "id": "Ae5T99wQOwn4",
        "outputId": "4198f50b-8ed9-4182-d33d-ecdd16774a3e",
        "colab": {
          "base_uri": "https://localhost:8080/",
          "height": 216
        }
      },
      "execution_count": 7,
      "outputs": [
        {
          "output_type": "stream",
          "name": "stdout",
          "text": [
            "x \\bmod m\n"
          ]
        },
        {
          "output_type": "display_data",
          "data": {
            "text/plain": [
              "Mod(x, m)"
            ],
            "text/latex": "$\\displaystyle x \\bmod m$"
          },
          "metadata": {}
        },
        {
          "output_type": "stream",
          "name": "stdout",
          "text": [
            "\n",
            "\n",
            "An example of a modified class function. \n",
            "Latex code: \n",
            "\\operatorname{Mod}{\\left(x, m\\right)}\n",
            "Displayed as: \n"
          ]
        },
        {
          "output_type": "display_data",
          "data": {
            "text/plain": [
              "ModOp(x, m)"
            ],
            "text/latex": "$\\displaystyle \\operatorname{Mod}{\\left(x, m\\right)}$"
          },
          "metadata": {}
        },
        {
          "output_type": "stream",
          "name": "stdout",
          "text": [
            "\n",
            "\n"
          ]
        }
      ]
    }
  ]
}