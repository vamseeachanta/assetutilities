{
  "cells": [
    {
      "cell_type": "markdown",
      "id": "e7160ed2",
      "metadata": {
        "id": "e7160ed2"
      },
      "source": [
        "<div style=\"background-color:#000;\"><img src=\"https://github.com/pyquantnews/PyQuantNewsletter/blob/main/pqn.png?raw=1\"></img></div>"
      ]
    },
    {
      "cell_type": "code",
      "execution_count": null,
      "id": "749e45db",
      "metadata": {
        "id": "749e45db"
      },
      "outputs": [],
      "source": [
        "import os\n",
        "from llama_index.llms.openai import OpenAI\n",
        "from llama_index.core.workflow import Context\n",
        "from llama_index.core.agent.workflow import (\n",
        "    FunctionAgent,\n",
        "    ReActAgent,\n",
        "    AgentWorkflow,\n",
        "    AgentInput,\n",
        "    AgentOutput,\n",
        "    ToolCall,\n",
        "    ToolCallResult,\n",
        "    AgentStream,\n",
        ")\n",
        "from tavily import AsyncTavilyClient\n",
        "from dotenv import load_dotenv\n",
        "load_dotenv()\n",
        "\n",
        "llm = OpenAI(model=\"gpt-4o\")"
      ]
    },
    {
      "cell_type": "markdown",
      "id": "0d7c7d7f",
      "metadata": {
        "id": "0d7c7d7f"
      },
      "source": [
        "## Create a function to perform web searches asynchronously"
      ]
    },
    {
      "cell_type": "markdown",
      "id": "4ac3437e",
      "metadata": {
        "id": "4ac3437e"
      },
      "source": [
        "We set up an asynchronous function to perform web searches using the Tavily API. This function will take a query string as input and return search results. It uses an API key from environment variables for authentication. The results are converted to a string format before being returned."
      ]
    },
    {
      "cell_type": "code",
      "execution_count": null,
      "id": "2d2da547",
      "metadata": {
        "id": "2d2da547"
      },
      "outputs": [],
      "source": [
        "async def search_web(query: str) -> str:\n",
        "    client = AsyncTavilyClient(api_key=os.getenv(\"TAVILY_API_KEY\"))\n",
        "    return str(await client.search(query))"
      ]
    },
    {
      "cell_type": "markdown",
      "id": "37589108",
      "metadata": {
        "id": "37589108"
      },
      "source": [
        "The function is designed to be asynchronous, allowing other tasks to run while waiting for the search results. It initializes an asynchronous client by using the API key stored in the environment variables, ensuring secure access. The search results are awaited, meaning the function will pause until the results are ready. The results are then converted to a string to ensure compatibility with other parts of the program."
      ]
    },
    {
      "cell_type": "markdown",
      "id": "2d47fab0",
      "metadata": {
        "id": "2d47fab0"
      },
      "source": [
        "## Implement functions to record, write, and review notes and reports"
      ]
    },
    {
      "cell_type": "markdown",
      "id": "1b8da272",
      "metadata": {
        "id": "1b8da272"
      },
      "source": [
        "We define several asynchronous functions to record notes, write reports, and review them. Each function interacts with a context object to store and retrieve the current state. These functions update the state with relevant data, such as notes or report content, and return confirmation messages."
      ]
    },
    {
      "cell_type": "code",
      "execution_count": null,
      "id": "6b78aa81",
      "metadata": {
        "id": "6b78aa81"
      },
      "outputs": [],
      "source": [
        "async def record_notes(ctx: Context, notes: str, notes_title: str) -> str:\n",
        "    current_state = await ctx.get(\"state\")\n",
        "    if \"research_notes\" not in current_state:\n",
        "        current_state[\"research_notes\"] = {}\n",
        "    current_state[\"research_notes\"][notes_title] = notes\n",
        "    await ctx.set(\"state\", current_state)\n",
        "    return \"Notes recorded.\""
      ]
    },
    {
      "cell_type": "code",
      "execution_count": null,
      "id": "6376dbf6",
      "metadata": {
        "id": "6376dbf6"
      },
      "outputs": [],
      "source": [
        "async def write_report(ctx: Context, report_content: str) -> str:\n",
        "    current_state = await ctx.get(\"state\")\n",
        "    current_state[\"report_content\"] = report_content\n",
        "    await ctx.set(\"state\", current_state)\n",
        "    return \"Report written.\""
      ]
    },
    {
      "cell_type": "code",
      "execution_count": null,
      "id": "89ac7efa",
      "metadata": {
        "id": "89ac7efa"
      },
      "outputs": [],
      "source": [
        "async def review_report(ctx: Context, review: str) -> str:\n",
        "    current_state = await ctx.get(\"state\")\n",
        "    current_state[\"review\"] = review\n",
        "    await ctx.set(\"state\", current_state)\n",
        "    return \"Report reviewed.\""
      ]
    },
    {
      "cell_type": "markdown",
      "id": "899a176f",
      "metadata": {
        "id": "899a176f"
      },
      "source": [
        "These functions perform different tasks related to managing information. The `record_notes` function checks if research notes exist in the current state and adds them if not. It then updates the notes with the provided title and content. The `write_report` function saves the report content to the state, while the `review_report` function saves feedback on the report. The context object ensures that the state is maintained consistently across different parts of the program."
      ]
    },
    {
      "cell_type": "markdown",
      "id": "6a6cc22d",
      "metadata": {
        "id": "6a6cc22d"
      },
      "source": [
        "## Define agents to handle specific tasks in the workflow"
      ]
    },
    {
      "cell_type": "markdown",
      "id": "8dec3c55",
      "metadata": {
        "id": "8dec3c55"
      },
      "source": [
        "We create three different agents: ResearchAgent, WriteAgent, and ReviewAgent. Each agent has a specific purpose and is equipped with a set of functions it can use. The agents can hand off control to each other when needed to complete the workflow."
      ]
    },
    {
      "cell_type": "code",
      "execution_count": null,
      "id": "5497424d",
      "metadata": {
        "id": "5497424d"
      },
      "outputs": [],
      "source": [
        "research_agent = FunctionAgent(\n",
        "    name=\"ResearchAgent\",\n",
        "    description=\"Useful for searching the web for information on a given topic and recording notes on the topic.\",\n",
        "    system_prompt=(\n",
        "        \"You are the ResearchAgent that can search the web for information on a given topic and record notes on the topic. \"\n",
        "        \"Once notes are recorded and you are satisfied, you should hand off control to the WriteAgent to write a report on the topic. \"\n",
        "        \"You should have at least some notes on a topic before handing off control to the WriteAgent.\"\n",
        "    ),\n",
        "    llm=llm,\n",
        "    tools=[search_web, record_notes],\n",
        "    can_handoff_to=[\"WriteAgent\"],\n",
        ")"
      ]
    },
    {
      "cell_type": "code",
      "execution_count": null,
      "id": "f521ba38",
      "metadata": {
        "id": "f521ba38"
      },
      "outputs": [],
      "source": [
        "write_agent = FunctionAgent(\n",
        "    name=\"WriteAgent\",\n",
        "    description=\"Useful for writing a report on a given topic.\",\n",
        "    system_prompt=(\n",
        "        \"You are the WriteAgent that can write a report on a given topic. \"\n",
        "        \"Your report should be in a markdown format. The content should be grounded in the research notes. \"\n",
        "        \"Once the report is written, you should get feedback at least once from the ReviewAgent.\"\n",
        "    ),\n",
        "    llm=llm,\n",
        "    tools=[write_report],\n",
        "    can_handoff_to=[\"ReviewAgent\", \"ResearchAgent\"],\n",
        ")"
      ]
    },
    {
      "cell_type": "code",
      "execution_count": null,
      "id": "d86f5790",
      "metadata": {
        "id": "d86f5790"
      },
      "outputs": [],
      "source": [
        "review_agent = FunctionAgent(\n",
        "    name=\"ReviewAgent\",\n",
        "    description=\"Useful for reviewing a report and providing feedback.\",\n",
        "    system_prompt=(\n",
        "        \"You are the ReviewAgent that can review the write report and provide feedback. \"\n",
        "        \"Your review should either approve the current report or request changes for the WriteAgent to implement. \"\n",
        "        \"If you have feedback that requires changes, you should hand off control to the WriteAgent to implement the changes after submitting the review.\"\n",
        "    ),\n",
        "    llm=llm,\n",
        "    tools=[review_report],\n",
        "    can_handoff_to=[\"WriteAgent\"],\n",
        ")"
      ]
    },
    {
      "cell_type": "markdown",
      "id": "e6daafb0",
      "metadata": {
        "id": "e6daafb0"
      },
      "source": [
        "Each agent has a specific role to play in the workflow. The ResearchAgent is responsible for gathering information and recording notes. Once sufficient notes are gathered, it hands off control to the WriteAgent. The WriteAgent takes these notes and composes a report in markdown format. After writing, it seeks feedback from the ReviewAgent. The ReviewAgent evaluates the report, providing approval or suggesting changes. This structured approach ensures that tasks are completed efficiently and accurately."
      ]
    },
    {
      "cell_type": "markdown",
      "id": "98cb9906",
      "metadata": {
        "id": "98cb9906"
      },
      "source": [
        "## Set up and execute the workflow using the defined agents"
      ]
    },
    {
      "cell_type": "markdown",
      "id": "5c24817e",
      "metadata": {
        "id": "5c24817e"
      },
      "source": [
        "We set up an AgentWorkflow to organize the sequence of actions performed by the agents. The workflow starts with the ResearchAgent and maintains a state to track progress. We then run the workflow with a user message, simulating a task request."
      ]
    },
    {
      "cell_type": "code",
      "execution_count": null,
      "id": "f3159708",
      "metadata": {
        "id": "f3159708"
      },
      "outputs": [],
      "source": [
        "agent_workflow = AgentWorkflow(\n",
        "    agents=[research_agent, write_agent, review_agent],\n",
        "    root_agent=research_agent.name,\n",
        "    initial_state={\n",
        "        \"research_notes\": {},\n",
        "        \"report_content\": \"Not written yet.\",\n",
        "        \"review\": \"Review required.\",\n",
        "    },\n",
        ")"
      ]
    },
    {
      "cell_type": "code",
      "execution_count": null,
      "id": "c69c7528",
      "metadata": {
        "id": "c69c7528"
      },
      "outputs": [],
      "source": [
        "handler = agent_workflow.run(\n",
        "    user_msg=(\n",
        "        \"Write me a report on why the announcement of the Deepseek R1 large language model rattled investors in Nvidia. \"\n",
        "        \"Briefly describe what Deepseek R1 is, why it made news globally, and why Nvidia's stock price tanked. \"\n",
        "    )\n",
        ")\n",
        "\n",
        "current_agent = None\n",
        "current_tool_calls = \"\"\n",
        "async for event in handler.stream_events():\n",
        "    if (\n",
        "        hasattr(event, \"current_agent_name\")\n",
        "        and event.current_agent_name != current_agent\n",
        "    ):\n",
        "        current_agent = event.current_agent_name\n",
        "        print(f\"\\n{'='*50}\")\n",
        "        print(f\"🤖 Agent: {current_agent}\")\n",
        "        print(f\"{'='*50}\\n\")\n",
        "    elif isinstance(event, AgentOutput):\n",
        "        if event.response.content:\n",
        "            print(\"📤 Output:\", event.response.content)\n",
        "        if event.tool_calls:\n",
        "            print(\n",
        "                \"🛠️  Planning to use tools:\",\n",
        "                [call.tool_name for call in event.tool_calls],\n",
        "            )\n",
        "    elif isinstance(event, ToolCallResult):\n",
        "        print(f\"🔧 Tool Result ({event.tool_name}):\")\n",
        "        print(f\"  Arguments: {event.tool_kwargs}\")\n",
        "        print(f\"  Output: {event.tool_output}\")\n",
        "    elif isinstance(event, ToolCall):\n",
        "        print(f\"🔨 Calling Tool: {event.tool_name}\")\n",
        "        print(f\"  With arguments: {event.tool_kwargs}\")"
      ]
    },
    {
      "cell_type": "markdown",
      "id": "ac1178ac",
      "metadata": {
        "id": "ac1178ac"
      },
      "source": [
        "The workflow is initialized with a list of agents and their respective roles. The ResearchAgent is set as the starting point, guiding the initial data gathering. The initial state is defined to track the progress of notes, report content, and review status. The workflow is executed by running it with a user message, which simulates a request to perform a specific task. This setup ensures that the agents collaborate smoothly, following a structured sequence to achieve the desired outcome."
      ]
    },
    {
      "cell_type": "markdown",
      "id": "1fa16ac5",
      "metadata": {
        "id": "1fa16ac5"
      },
      "source": [
        "## Your next steps"
      ]
    },
    {
      "cell_type": "markdown",
      "id": "8b2569ef-48ea-41d2-b682-11e48976b3ec",
      "metadata": {
        "id": "8b2569ef-48ea-41d2-b682-11e48976b3ec"
      },
      "source": [
        "Try modifying the code to explore different functionalities. You might change the user message to request a report on a different topic. Alternatively, consider integrating additional tools for the agents to use. This will help you understand the flexibility and potential of the agent-based workflow."
      ]
    },
    {
      "cell_type": "markdown",
      "id": "8328b12a",
      "metadata": {
        "id": "8328b12a"
      },
      "source": [
        "<a href=\"https://pyquantnews.com/\">PyQuant News</a> is where finance practitioners level up with Python for quant finance, algorithmic trading, and market data analysis. Looking to get started? Check out the fastest growing, top-selling course to <a href=\"https://gettingstartedwithpythonforquantfinance.com/\">get started with Python for quant finance</a>. For educational purposes. Not investment advise. Use at your own risk."
      ]
    }
  ],
  "metadata": {
    "jupytext": {
      "cell_metadata_filter": "-all",
      "main_language": "python",
      "notebook_metadata_filter": "-all"
    },
    "kernelspec": {
      "display_name": "Python 3 (ipykernel)",
      "language": "python",
      "name": "python3"
    },
    "language_info": {
      "codemirror_mode": {
        "name": "ipython",
        "version": 3
      },
      "file_extension": ".py",
      "mimetype": "text/x-python",
      "name": "python",
      "nbconvert_exporter": "python",
      "pygments_lexer": "ipython3",
      "version": "3.10.13"
    },
    "colab": {
      "provenance": []
    }
  },
  "nbformat": 4,
  "nbformat_minor": 5
}